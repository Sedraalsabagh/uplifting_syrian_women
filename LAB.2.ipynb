{
  "cells": [
    {
      "cell_type": "code",
      "execution_count": null,
      "metadata": {
        "id": "R2QOzLSlavEZ"
      },
      "outputs": [],
      "source": [
        "#1- Variables"
      ]
    },
    {
      "cell_type": "code",
      "execution_count": null,
      "metadata": {},
      "outputs": [],
      "source": [
        "print(\"Student's name is ahamd\")  \n",
        "print(\"Student's age is 15 \" )    \n",
        "print(\"Student's major is \")"
      ]
    },
    {
      "cell_type": "code",
      "execution_count": 59,
      "metadata": {},
      "outputs": [
        {
          "name": "stdout",
          "output_type": "stream",
          "text": [
            "Student's name is                   sedra\n",
            "Student's age is: 20\n",
            "Student's major is: Computer Science\n"
          ]
        }
      ],
      "source": [
        "\n",
        "name = \"omar\"\n",
        "age = 20\n",
        "major = \"Computer Science\"\n",
        "name='sedra'\n",
        "\n",
        "print(\"Student's name is                  \" , name)  \n",
        "print(\"Student's age is:\", age)   \n",
        "print(\"Student's major is:\", major)  \n",
        "\n",
        "# # Updating \n",
        "# major = \"Software Engineering\"\n",
        "\n",
        "\n",
        "# print(name + \" is now studying \" + major + \".\") "
      ]
    },
    {
      "cell_type": "code",
      "execution_count": 61,
      "metadata": {
        "colab": {
          "base_uri": "https://localhost:8080/"
        },
        "id": "T14BjGR7cMqP",
        "outputId": "6574dc3c-9eca-4fac-9d26-9683c9be01e3"
      },
      "outputs": [
        {
          "name": "stdout",
          "output_type": "stream",
          "text": [
            "welcame  khaledin the game\n"
          ]
        }
      ],
      "source": [
        "name = 'khaled'\n",
        "print('welcame  ' + name +'in the game' )"
      ]
    },
    {
      "cell_type": "code",
      "execution_count": null,
      "metadata": {
        "id": "_chUuCy5jHm0"
      },
      "outputs": [],
      "source": [
        "#Types of variables"
      ]
    },
    {
      "cell_type": "markdown",
      "metadata": {},
      "source": [
        "**number**"
      ]
    },
    {
      "cell_type": "code",
      "execution_count": 64,
      "metadata": {},
      "outputs": [
        {
          "name": "stdout",
          "output_type": "stream",
          "text": [
            "50\n"
          ]
        }
      ],
      "source": [
        "a = 11\n",
        "x=10 * 5\n",
        "print(x)"
      ]
    },
    {
      "cell_type": "code",
      "execution_count": 66,
      "metadata": {},
      "outputs": [
        {
          "name": "stdout",
          "output_type": "stream",
          "text": [
            "-3  my favorite number\n"
          ]
        }
      ],
      "source": [
        "my_number=3\n",
        "print(str(my_number)  + '  my favorite number')\n"
      ]
    },
    {
      "cell_type": "code",
      "execution_count": 72,
      "metadata": {},
      "outputs": [
        {
          "data": {
            "text/plain": [
              "4"
            ]
          },
          "execution_count": 72,
          "metadata": {},
          "output_type": "execute_result"
        }
      ],
      "source": [
        "abs(my_number)\n",
        "pow(2,4)\n",
        "max(2,4)\n",
        "min(2,4)\n",
        "round(3.5) \n"
      ]
    },
    {
      "cell_type": "code",
      "execution_count": 74,
      "metadata": {},
      "outputs": [],
      "source": [
        "import math # math.class.def"
      ]
    },
    {
      "cell_type": "code",
      "execution_count": 79,
      "metadata": {},
      "outputs": [
        {
          "data": {
            "text/plain": [
              "2.0"
            ]
          },
          "execution_count": 79,
          "metadata": {},
          "output_type": "execute_result"
        }
      ],
      "source": [
        "math.floor(3.9)\n",
        "math.ceil(3.3)\n",
        "math.sqrt(4)"
      ]
    },
    {
      "cell_type": "code",
      "execution_count": null,
      "metadata": {
        "id": "7cyP8INfeIJX"
      },
      "outputs": [],
      "source": [
        "#int\n",
        "age = 25\n",
        "count = 1000\n"
      ]
    },
    {
      "cell_type": "code",
      "execution_count": null,
      "metadata": {
        "id": "ydv06_OHkJaC"
      },
      "outputs": [],
      "source": [
        "#floats\n",
        "height = 175.544444444444\n",
        "pi = 3.14\n",
        "#للفواصل"
      ]
    },
    {
      "cell_type": "code",
      "execution_count": 81,
      "metadata": {},
      "outputs": [
        {
          "name": "stdout",
          "output_type": "stream",
          "text": [
            "The result is: 8\n"
          ]
        }
      ],
      "source": [
        "num1 = 5\n",
        "num2 = 3\n",
        "result = num1 + num2\n",
        "print(\"The result is:\", result)\n"
      ]
    },
    {
      "cell_type": "code",
      "execution_count": 82,
      "metadata": {
        "id": "-Vo-Xfneek4B"
      },
      "outputs": [
        {
          "name": "stdout",
          "output_type": "stream",
          "text": [
            "ML\n",
            " DL\n",
            "ML\" DL\n"
          ]
        }
      ],
      "source": [
        "#str\n",
        "name = \"sedra\"\n",
        "message = 'Hello, world!'\n",
        "\n",
        "print(\"ML\\n DL\")\n",
        "print(\"ML\\\" DL\")\n"
      ]
    },
    {
      "cell_type": "code",
      "execution_count": 2,
      "metadata": {},
      "outputs": [
        {
          "name": "stdout",
          "output_type": "stream",
          "text": [
            "dataset and performance evaluation\n",
            "False\n",
            "True\n"
          ]
        }
      ],
      "source": [
        "text='DATASET AND PERFORMANCE EVALUATION'\n",
        "print(text.lower())\n",
        "# print(text.upper())\n",
        "print(text.islower())\n",
        "print(text.isupper())\n",
        "\n"
      ]
    },
    {
      "cell_type": "code",
      "execution_count": 93,
      "metadata": {},
      "outputs": [
        {
          "name": "stdout",
          "output_type": "stream",
          "text": [
            "16\n"
          ]
        },
        {
          "data": {
            "text/plain": [
              "2"
            ]
          },
          "execution_count": 93,
          "metadata": {},
          "output_type": "execute_result"
        }
      ],
      "source": [
        "print(len(text))\n",
        "text[0]\n",
        "text.index('r')"
      ]
    },
    {
      "cell_type": "code",
      "execution_count": 96,
      "metadata": {},
      "outputs": [
        {
          "data": {
            "text/plain": [
              "'there is the code'"
            ]
          },
          "execution_count": 96,
          "metadata": {},
          "output_type": "execute_result"
        }
      ],
      "source": [
        "text.replace('here','there')"
      ]
    },
    {
      "cell_type": "markdown",
      "metadata": {},
      "source": [
        "**inputs**"
      ]
    },
    {
      "cell_type": "code",
      "execution_count": 99,
      "metadata": {},
      "outputs": [
        {
          "name": "stdout",
          "output_type": "stream",
          "text": [
            "Hello  enter your name : \n"
          ]
        }
      ],
      "source": [
        "name='enter your name : '\n",
        "print('Hello ' , name)"
      ]
    },
    {
      "cell_type": "code",
      "execution_count": 101,
      "metadata": {
        "id": "481WS4jwewNt"
      },
      "outputs": [],
      "source": [
        "#Lists\n",
        "numbers = [1, 2, 3, 4, 5,6,7,8,9]\n",
        "names = ['Ali', 'Sara', 'Khaled']\n",
        "names = ['Ali', 'Sara', 'Khaled',1,False,[1,2]]  #لا يأخد العنصر الاخير\n"
      ]
    },
    {
      "cell_type": "code",
      "execution_count": 105,
      "metadata": {},
      "outputs": [
        {
          "data": {
            "text/plain": [
              "False"
            ]
          },
          "execution_count": 105,
          "metadata": {},
          "output_type": "execute_result"
        }
      ],
      "source": [
        "names[4]\n"
      ]
    },
    {
      "cell_type": "code",
      "execution_count": 109,
      "metadata": {},
      "outputs": [
        {
          "data": {
            "text/plain": [
              "['Ali', 'Sara', 'Khaled', 1]"
            ]
          },
          "execution_count": 109,
          "metadata": {},
          "output_type": "execute_result"
        }
      ],
      "source": [
        "names[0:4]"
      ]
    },
    {
      "cell_type": "code",
      "execution_count": 111,
      "metadata": {},
      "outputs": [
        {
          "data": {
            "text/plain": [
              "[2, 3, 4, 5, 6, 7, 8]"
            ]
          },
          "execution_count": 111,
          "metadata": {},
          "output_type": "execute_result"
        }
      ],
      "source": [
        "numbers[1:-1]"
      ]
    },
    {
      "cell_type": "code",
      "execution_count": 2,
      "metadata": {},
      "outputs": [
        {
          "name": "stdout",
          "output_type": "stream",
          "text": [
            "[1, 2, 3, 4, 5, 6]\n"
          ]
        }
      ],
      "source": [
        "\n",
        "list1 = [1, 2, 3]\n",
        "list2 = [4, 5, 6]\n",
        "\n",
        "\n",
        "list1.extend(list2)\n",
        "\n",
        "\n",
        "print(list1)  \n",
        "\n"
      ]
    },
    {
      "cell_type": "code",
      "execution_count": 4,
      "metadata": {},
      "outputs": [
        {
          "data": {
            "text/plain": [
              "[1, 2, 3, 4, 5, 6, 4, 5, 6, 4, 5, 6]"
            ]
          },
          "execution_count": 4,
          "metadata": {},
          "output_type": "execute_result"
        }
      ],
      "source": [
        "list1 +=list2\n",
        "list1"
      ]
    },
    {
      "cell_type": "code",
      "execution_count": 5,
      "metadata": {},
      "outputs": [
        {
          "name": "stdout",
          "output_type": "stream",
          "text": [
            "[1, 2, 3, 6]\n"
          ]
        }
      ],
      "source": [
        "\n",
        "list1 = [1, 2, 3]\n",
        "\n",
        "\n",
        "list1.append(6)\n",
        "\n",
        "\n",
        "print(list1)  \n",
        "\n"
      ]
    },
    {
      "cell_type": "code",
      "execution_count": 6,
      "metadata": {},
      "outputs": [
        {
          "data": {
            "text/plain": [
              "[22, 1, 2, 3]"
            ]
          },
          "execution_count": 6,
          "metadata": {},
          "output_type": "execute_result"
        }
      ],
      "source": [
        "list10 = [1, 2, 3]\n",
        "list10.insert(0,22)\n",
        "list10"
      ]
    },
    {
      "cell_type": "code",
      "execution_count": 7,
      "metadata": {},
      "outputs": [
        {
          "name": "stdout",
          "output_type": "stream",
          "text": [
            "['apple', 'banana', 'cherry', 'date', 'banana']\n"
          ]
        }
      ],
      "source": [
        "\n",
        "list10 = [\"apple\", \"banana\", \"cherry\", \"date\",\"banana\"]\n",
        "\n",
        "\n",
        "# list10.remove(\"banana\")\n",
        "\n",
        "\n",
        "print(list10)  \n"
      ]
    },
    {
      "cell_type": "code",
      "execution_count": 8,
      "metadata": {},
      "outputs": [
        {
          "data": {
            "text/plain": [
              "['apple', 'banana', 'cherry', 'date']"
            ]
          },
          "execution_count": 8,
          "metadata": {},
          "output_type": "execute_result"
        }
      ],
      "source": [
        "list10.pop()\n",
        "list10"
      ]
    },
    {
      "cell_type": "code",
      "execution_count": 9,
      "metadata": {},
      "outputs": [
        {
          "data": {
            "text/plain": [
              "[]"
            ]
          },
          "execution_count": 9,
          "metadata": {},
          "output_type": "execute_result"
        }
      ],
      "source": [
        "list10.clear()\n",
        "list10"
      ]
    },
    {
      "cell_type": "code",
      "execution_count": 28,
      "metadata": {},
      "outputs": [
        {
          "data": {
            "text/plain": [
              "1"
            ]
          },
          "execution_count": 28,
          "metadata": {},
          "output_type": "execute_result"
        }
      ],
      "source": [
        "list10.index(\"banana\")"
      ]
    },
    {
      "cell_type": "code",
      "execution_count": 29,
      "metadata": {},
      "outputs": [
        {
          "data": {
            "text/plain": [
              "2"
            ]
          },
          "execution_count": 29,
          "metadata": {},
          "output_type": "execute_result"
        }
      ],
      "source": [
        "list10.count('banana')"
      ]
    },
    {
      "cell_type": "code",
      "execution_count": 31,
      "metadata": {},
      "outputs": [
        {
          "data": {
            "text/plain": [
              "['apple', 'banana', 'banana', 'cherry', 'date']"
            ]
          },
          "execution_count": 31,
          "metadata": {},
          "output_type": "execute_result"
        }
      ],
      "source": [
        "list10.sort()\n",
        "list10"
      ]
    },
    {
      "cell_type": "code",
      "execution_count": 33,
      "metadata": {},
      "outputs": [
        {
          "data": {
            "text/plain": [
              "['apple', 'banana', 'banana', 'cherry', 'date']"
            ]
          },
          "execution_count": 33,
          "metadata": {},
          "output_type": "execute_result"
        }
      ],
      "source": [
        "new_list=list10.copy()\n",
        "new_list"
      ]
    },
    {
      "cell_type": "code",
      "execution_count": null,
      "metadata": {},
      "outputs": [],
      "source": [
        "numbers = [5, 8, 2, 15, 3]\n",
        "max_num = max(numbers)\n",
        "print(\"The maximum number is:\", max_num)\n"
      ]
    },
    {
      "cell_type": "code",
      "execution_count": null,
      "metadata": {},
      "outputs": [],
      "source": [
        "text = \"Hello, world!\"\n",
        "length = len(text)\n",
        "print(\"Length of the text:\", length)\n"
      ]
    },
    {
      "cell_type": "code",
      "execution_count": null,
      "metadata": {},
      "outputs": [],
      "source": [
        "numbers = [10, 20, 30, 40, 50]\n",
        "total = sum(numbers)\n",
        "average = total / len(numbers)\n",
        "print(\"The average is:\", average)\n"
      ]
    },
    {
      "cell_type": "code",
      "execution_count": 47,
      "metadata": {},
      "outputs": [
        {
          "name": "stdout",
          "output_type": "stream",
          "text": [
            "Original list: ['a', 'b', 'c', 'd', 'e']\n",
            "After adding 'f': ['a', 'b', 'c', 'd', 'e', 'f']\n",
            "After removing 'c': ['a', 'b', 'd', 'e', 'f']\n",
            "Index of 'd': 2\n",
            "After changing 'd' to 'g': ['a', 'b', 'g', 'e', 'f']\n",
            "After sorting the list: ['a', 'b', 'e', 'f', 'g']\n",
            "After reversing the list: ['g', 'f', 'e', 'b', 'a']\n",
            "Number of items in the list: 5\n"
          ]
        }
      ],
      "source": [
        "\n",
        "char_list = ['a', 'b', 'c', 'd', 'e']\n",
        "\n",
        "\n",
        "print(\"Original list:\", char_list)\n",
        "\n",
        "char_list.append('f')\n",
        "print(\"After adding 'f':\", char_list)\n",
        "\n",
        "\n",
        "char_list.remove('c')\n",
        "print(\"After removing 'c':\", char_list)\n",
        "\n",
        "\n",
        "index_of_d = char_list.index('d')\n",
        "print(\"Index of 'd':\", index_of_d)\n",
        "\n",
        "\n",
        "char_list[index_of_d] = 'g'\n",
        "print(\"After changing 'd' to 'g':\", char_list)\n",
        "\n",
        "\n",
        "char_list.sort()\n",
        "print(\"After sorting the list:\", char_list)\n",
        "\n",
        "\n",
        "char_list.reverse()\n",
        "print(\"After reversing the list:\", char_list)\n",
        "\n",
        "\n",
        "count = len(char_list)\n",
        "print(\"Number of items in the list:\", count)\n"
      ]
    },
    {
      "cell_type": "code",
      "execution_count": 49,
      "metadata": {},
      "outputs": [],
      "source": [
        "m=['css','html','python','java']  \n"
      ]
    },
    {
      "cell_type": "markdown",
      "metadata": {},
      "source": [
        "##################** test **"
      ]
    },
    {
      "cell_type": "code",
      "execution_count": 53,
      "metadata": {},
      "outputs": [],
      "source": []
    },
    {
      "cell_type": "code",
      "execution_count": 12,
      "metadata": {},
      "outputs": [
        {
          "data": {
            "text/plain": [
              "1"
            ]
          },
          "execution_count": 12,
          "metadata": {},
          "output_type": "execute_result"
        }
      ],
      "source": [
        "#tupls\n",
        "aa=(1,3)\n",
        "aa[0]"
      ]
    },
    {
      "cell_type": "code",
      "execution_count": 13,
      "metadata": {},
      "outputs": [
        {
          "ename": "TypeError",
          "evalue": "'tuple' object does not support item assignment",
          "output_type": "error",
          "traceback": [
            "\u001b[1;31m---------------------------------------------------------------------------\u001b[0m",
            "\u001b[1;31mTypeError\u001b[0m                                 Traceback (most recent call last)",
            "Cell \u001b[1;32mIn[13], line 1\u001b[0m\n\u001b[1;32m----> 1\u001b[0m \u001b[43maa\u001b[49m\u001b[43m[\u001b[49m\u001b[38;5;241;43m0\u001b[39;49m\u001b[43m]\u001b[49m\u001b[38;5;241m=\u001b[39m\u001b[38;5;241m3\u001b[39m\n",
            "\u001b[1;31mTypeError\u001b[0m: 'tuple' object does not support item assignment"
          ]
        }
      ],
      "source": [
        "aa[0]=3"
      ]
    },
    {
      "cell_type": "code",
      "execution_count": null,
      "metadata": {},
      "outputs": [],
      "source": [
        "coordinates = (10, 20)\n",
        "colors = ('red', 'green', 'blue')"
      ]
    },
    {
      "cell_type": "code",
      "execution_count": 14,
      "metadata": {},
      "outputs": [],
      "source": [
        "a=('red',1)"
      ]
    },
    {
      "cell_type": "code",
      "execution_count": 44,
      "metadata": {},
      "outputs": [],
      "source": [
        "list_0f_tuple=[(1,2),(2,5)]\n",
        "# list_of_tuple[0][1]=2\n"
      ]
    },
    {
      "cell_type": "code",
      "execution_count": null,
      "metadata": {
        "id": "THqQZq7De95q"
      },
      "outputs": [],
      "source": [
        "#dic\n",
        "person = {'name': 'Ali', 'age': 30, 'city': 'Cairo'}\n",
        "student = {'id': 12345, 'name': 'Sara', 'age': 25}\n"
      ]
    },
    {
      "cell_type": "code",
      "execution_count": 15,
      "metadata": {},
      "outputs": [],
      "source": [
        "convert_month= {'jan':'january' ,\n",
        "                 'mar':'march'    }  # key uniq "
      ]
    },
    {
      "cell_type": "code",
      "execution_count": 28,
      "metadata": {},
      "outputs": [
        {
          "data": {
            "text/plain": [
              "'march'"
            ]
          },
          "execution_count": 28,
          "metadata": {},
          "output_type": "execute_result"
        }
      ],
      "source": [
        "convert_month['mar'] # first way "
      ]
    },
    {
      "cell_type": "code",
      "execution_count": 20,
      "metadata": {},
      "outputs": [],
      "source": [
        "# convert_month= {'jan':'january' ,\n",
        "#                  'jan':'march'    }\n",
        "# convert_month['jan']"
      ]
    },
    {
      "cell_type": "code",
      "execution_count": 25,
      "metadata": {},
      "outputs": [
        {
          "name": "stdout",
          "output_type": "stream",
          "text": [
            "the value is not exist\n"
          ]
        }
      ],
      "source": [
        "convert_month= {'jan':'january' ,\n",
        "                 'mar':'march'    }  \n",
        "print(convert_month.get('marr','the value is not exist'))"
      ]
    },
    {
      "cell_type": "code",
      "execution_count": 29,
      "metadata": {},
      "outputs": [],
      "source": [
        "convert_month= {1:'january' ,\n",
        "                 'mar':'march'    }"
      ]
    },
    {
      "cell_type": "code",
      "execution_count": null,
      "metadata": {},
      "outputs": [],
      "source": [
        "#sets"
      ]
    },
    {
      "cell_type": "code",
      "execution_count": 44,
      "metadata": {},
      "outputs": [],
      "source": [
        "number=[1,3,3,4,4,3,6,1,8,4,5]\n",
        "unique_list=[]"
      ]
    },
    {
      "cell_type": "code",
      "execution_count": 45,
      "metadata": {},
      "outputs": [],
      "source": [
        "for number in number :\n",
        "    if number not in unique_list :\n",
        "        unique_list.append(number)\n",
        "        \n",
        "        "
      ]
    },
    {
      "cell_type": "code",
      "execution_count": 49,
      "metadata": {},
      "outputs": [
        {
          "data": {
            "text/plain": [
              "list"
            ]
          },
          "execution_count": 49,
          "metadata": {},
          "output_type": "execute_result"
        }
      ],
      "source": [
        "type(unique_list)"
      ]
    },
    {
      "cell_type": "code",
      "execution_count": 48,
      "metadata": {},
      "outputs": [
        {
          "data": {
            "text/plain": [
              "set"
            ]
          },
          "execution_count": 48,
          "metadata": {},
          "output_type": "execute_result"
        }
      ],
      "source": [
        "#second way \n",
        "number=[1,3,3,4,4,3,6,1,8,4,5]\n",
        "unique_list2=set(number)\n",
        "# unique_list2\n",
        "type(unique_list2)"
      ]
    },
    {
      "cell_type": "code",
      "execution_count": 51,
      "metadata": {},
      "outputs": [],
      "source": [
        "# dir(unique_list2)"
      ]
    }
  ],
  "metadata": {
    "colab": {
      "provenance": []
    },
    "kernelspec": {
      "display_name": "Python 3",
      "name": "python3"
    },
    "language_info": {
      "codemirror_mode": {
        "name": "ipython",
        "version": 3
      },
      "file_extension": ".py",
      "mimetype": "text/x-python",
      "name": "python",
      "nbconvert_exporter": "python",
      "pygments_lexer": "ipython3",
      "version": "3.12.4"
    }
  },
  "nbformat": 4,
  "nbformat_minor": 0
}
