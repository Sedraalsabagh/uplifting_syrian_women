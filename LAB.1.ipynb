{
 "cells": [
  {
   "cell_type": "markdown",
   "metadata": {},
   "source": [
    "# **Python ─ Overview**\n"
   ]
  },
  {
   "cell_type": "markdown",
   "metadata": {},
   "source": [
    "Python is a high-level, interpreted, interactive and object-oriented scripting\n",
    "language. Python is designed to be highly readable. It uses English keywords\n",
    "frequently where as other languages use punctuation, and it has fewer syntactical\n",
    "constructions than other languages.\n",
    " Python is Interpreted: Python is processed at runtime by the interpreter.\n",
    "You do not need to compile your program before executing it. This is similar\n",
    "to PERL and PHP.\n",
    " Python is Interactive: You can actually sit at a Python prompt and interact\n",
    "with the interpreter directly to write your programs.\n",
    " Python is Object-Oriented: Python supports Object-Oriented style or\n",
    "technique of programming that encapsulates code within objects.\n",
    " Python is a Beginner's Language: Python is a great language for the\n",
    "beginner-level programmers and supports the development of a wide range of\n",
    "applications from simple text processing to WWW browsers to games"
   ]
  },
  {
   "cell_type": "markdown",
   "metadata": {},
   "source": [
    "Why should we learn Python?\n",
    "It's easy to learn. It runs on all operating systems such as macOS, Linux, and Windows, making it flexible. It contains a large number of libraries, including useful ones in fields like artificial intelligence and machine learning such as Scikit-learn. Python is used in website and mobile app development using frameworks like FastAPI and Django. Python developers are among the highest-paid, with salaries reaching up to $120,000 per year"
   ]
  },
  {
   "cell_type": "markdown",
   "metadata": {},
   "source": [
    "## **History of Python**"
   ]
  },
  {
   "cell_type": "markdown",
   "metadata": {},
   "source": [
    "\n",
    "Python was developed by Guido van Rossum in the late eighties and early nineties at\n",
    "the National Research Institute for Mathematics and Computer Science in the\n",
    "Netherlands.\n",
    "Python is derived from many other languages, including ABC, Modula-3, C, C++,\n",
    "Algol-68, SmallTalk, Unix shell, and other scripting languages.\n",
    "Python is copyrighted. Like Perl, Python source code is now available under the GNU\n",
    "General Public License (GPL).\n",
    "Python is now maintained by a core development team at the institute, although\n",
    "Guido van Rossum still holds a vital role in directing its progress"
   ]
  },
  {
   "cell_type": "markdown",
   "metadata": {},
   "source": [
    "### **Python Features**\n"
   ]
  },
  {
   "cell_type": "markdown",
   "metadata": {},
   "source": [
    "Easy-to-learn: Python has few keywords, simple structure, and a clearly\n",
    "defined syntax. This allows the student to pick up the language quickly.\n",
    " Easy-to-read: Python code is more clearly defined and visible to the eyes.\n",
    " Easy-to-maintain: Python's source code is fairly easy-to-maintain.\n",
    "A broad standard library: Python's bulk of the library is very portable and\n",
    "cross-platform compatible on UNIX, Windows, and Macintosh.\n",
    " Interactive Mode: Python has support for an interactive mode which allows\n",
    "interactive testing and debugging of snippets of code.\n",
    " Portable: Python can run on a wide variety of hardware platforms and has the\n",
    "same interface on all platforms.\n"
   ]
  },
  {
   "cell_type": "markdown",
   "metadata": {},
   "source": [
    "### **Getting Python**\n",
    "You can download Python documentation from http://www.python.org/doc"
   ]
  },
  {
   "cell_type": "markdown",
   "metadata": {},
   "source": [
    "Windows Installation\n",
    "Here are the steps to install Python on Windows machine.\n",
    " Open a Web browser and go to http://www.python.org\n",
    " Follow the link for the Windows installer python-XYZ.msi file where XYZ is the\n",
    "version you need to install.\n",
    " To use this installer python-XYZ.msi, the Windows system must support\n",
    "Microsoft Installer 2.0. Save the installer file to your local machine and then\n",
    "run it to find out if your machine supports MSI.\n",
    " Run the downloaded file. This brings up the Python install wizard, which is\n",
    "really easy to use. Just accept the default settings, wait until the install is\n",
    "finished, and you are done."
   ]
  },
  {
   "cell_type": "markdown",
   "metadata": {},
   "source": [
    "What do we need to learn Python?\n",
    "1-code editor\n",
    "2-install python"
   ]
  },
  {
   "cell_type": "markdown",
   "metadata": {},
   "source": [
    "## **Python ─ Basic Syntax**"
   ]
  },
  {
   "cell_type": "markdown",
   "metadata": {},
   "source": [
    "### First Python Program"
   ]
  },
  {
   "cell_type": "code",
   "execution_count": 46,
   "metadata": {},
   "outputs": [
    {
     "name": "stdout",
     "output_type": "stream",
     "text": [
      "Hello, World!\n",
      "3\n",
      "4\n"
     ]
    }
   ],
   "source": [
    "print('Hello, World!')\n",
    "\n",
    "print(3)\n",
    "x=4\n",
    "print(x)"
   ]
  },
  {
   "cell_type": "markdown",
   "metadata": {},
   "source": [
    "### Python Identifiers\n",
    "A Python identifier is a name used to identify a variable, function, class, module, or\n",
    "other object. An identifier starts with a letter A to Z or a to z, or an underscore (_)\n",
    "followed by zero or more letters, underscores and digits (0 to 9).\n",
    "Python does not allow punctuation characters such as @, $, and % within identifiers.\n",
    "Python is a case sensitive programming language. Thus, Manpower and manpower\n",
    "are two different identifiers in Python.\n",
    "Here are naming conventions for Python identifiers:\n",
    " Class names start with an uppercase letter. All other identifiers start with a\n",
    "lowercase letter.\n",
    " Starting an identifier with a single leading underscore indicates that the\n",
    "identifier is private.\n",
    " Starting an identifier with two leading underscores indicates a strongly private\n",
    "identifier"
   ]
  },
  {
   "cell_type": "markdown",
   "metadata": {},
   "source": [
    "\"\"\" if, elif, else: تتحقق من شرط معين وتنفذ الكود بناءً على النتيجة.\n",
    "for, in, break, continue: تستخدم في الحلقات للتكرار ولتخطي أو إنهاء التكرار.\n",
    "while: حلقة تستمر طالما أن الشرط صحيح.\n",
    "def, return: لتعريف الدوال وإرجاع القيم.\n",
    "try, except, raise: للتعامل مع الاستثناءات (الأخطاء) ورفعها إذا لزم الأمر.\n",
    "class, global: لتعريف الصفوف والمتحولات العامة.\n",
    "lambda: لإنشاء دالة مجهولة.\n",
    "pass: تستخدم كعنصر نائب في الأماكن التي لا تحتاج إلى كود حاليًا.\n",
    "assert: للتحقق من صحة شرط معين.\n",
    "with: لإدارة الموارد (مثل فتح الملفات) بطريقة آمنة.\n",
    "del: لحذف متغير أو عنصر من قائمة.\n",
    "not, and, or, is: لتنفيذ العمليات المنطقية.\n",
    "exec: لتنفيذ كود Python مُعطى كسلسلة نصية.\n",
    "yield: لتوليد قيم بشكل متتابع من دالة مولدة.\n",
    "finally: لتنفيذ كود بعد معالجة الاستثناءات.\n",
    "import: لاستيراد مكتبات خارجية.  \"\"\""
   ]
  },
  {
   "cell_type": "code",
   "execution_count": 49,
   "metadata": {},
   "outputs": [
    {
     "name": "stdout",
     "output_type": "stream",
     "text": [
      "False\n"
     ]
    }
   ],
   "source": [
    "#if else\n",
    "x=3\n",
    "if x>4:\n",
    " print (\"True\")\n",
    "else:\n",
    " print (\"False\")\n",
    " \n",
    " \n"
   ]
  },
  {
   "cell_type": "code",
   "execution_count": 50,
   "metadata": {},
   "outputs": [
    {
     "name": "stdout",
     "output_type": "stream",
     "text": [
      "x is greater than 5\n"
     ]
    }
   ],
   "source": [
    "x = 6\n",
    "if x < 5:\n",
    "    print(\"x is less than 5\")\n",
    "elif x == 10:\n",
    "    print(\"x is equal to 10\")\n",
    "else:\n",
    "    print(\"x is greater than 5\")"
   ]
  },
  {
   "cell_type": "code",
   "execution_count": 52,
   "metadata": {},
   "outputs": [
    {
     "name": "stdout",
     "output_type": "stream",
     "text": [
      "0\n",
      "1\n",
      "2\n",
      "3\n",
      "4\n",
      "6\n",
      "7\n"
     ]
    }
   ],
   "source": [
    "for i in range(10):\n",
    "    if i == 5:\n",
    "        continue  # تخطي الرقم 5\n",
    "    elif i == 8:\n",
    "        break  # إنهاء الحلقة عند الرقم 8\n",
    "    print(i)"
   ]
  },
  {
   "cell_type": "code",
   "execution_count": 55,
   "metadata": {},
   "outputs": [],
   "source": [
    "y = 0\n",
    "while y < 5:\n",
    "    print(y)\n",
    "    y += 1"
   ]
  },
  {
   "cell_type": "code",
   "execution_count": 60,
   "metadata": {},
   "outputs": [
    {
     "name": "stdout",
     "output_type": "stream",
     "text": [
      "7\n"
     ]
    }
   ],
   "source": [
    "def sum(a, b):\n",
    "    return a + b\n",
    "\n",
    "print(add(3, 4))\n"
   ]
  },
  {
   "cell_type": "code",
   "execution_count": 7,
   "metadata": {},
   "outputs": [
    {
     "name": "stdout",
     "output_type": "stream",
     "text": [
      "invalid literal for int() with base 10: 'سثيقش'\n"
     ]
    }
   ],
   "source": [
    "try:\n",
    "    value = int(input(\"Enter a number: \"))\n",
    "    if value < 0:\n",
    "        raise ValueError(\"Negative numbers are not allowed!\")\n",
    "except ValueError as e:\n",
    "    print(e)"
   ]
  },
  {
   "cell_type": "code",
   "execution_count": 11,
   "metadata": {},
   "outputs": [
    {
     "name": "stdout",
     "output_type": "stream",
     "text": [
      "You have entered an invalid value! Please enter a valid number.\n"
     ]
    }
   ],
   "source": [
    "try:\n",
    "    number = int(input(\"Enter a number: \")) \n",
    "    print(f\"the number is {number}\") \n",
    "except ValueError:\n",
    "    print(\"You have entered an invalid value! Please enter a valid number.\")  \n"
   ]
  },
  {
   "cell_type": "code",
   "execution_count": 12,
   "metadata": {},
   "outputs": [
    {
     "name": "stdout",
     "output_type": "stream",
     "text": [
      "Hello, Alice\n"
     ]
    },
    {
     "data": {
      "text/plain": [
       "100"
      ]
     },
     "execution_count": 12,
     "metadata": {},
     "output_type": "execute_result"
    }
   ],
   "source": [
    "class MyClass:\n",
    "    global z  \n",
    "    z = 100\n",
    "    def __init__(self, name):\n",
    "        self.name = name\n",
    "    \n",
    "    def greet(self):\n",
    "        print(\"Hello, \" + self.name)\n",
    "\n",
    "obj = MyClass(\"Alice\")\n",
    "obj.greet()\n"
   ]
  },
  {
   "cell_type": "code",
   "execution_count": 16,
   "metadata": {},
   "outputs": [
    {
     "name": "stdout",
     "output_type": "stream",
     "text": [
      "Before calling modify_global: 10\n",
      "After calling modify_global: 20\n"
     ]
    }
   ],
   "source": [
    "x = 10 \n",
    "\n",
    "def modify_global():\n",
    "    global x \n",
    "    x = 20  \n",
    "\n",
    "print(\"Before calling modify_global:\", x) \n",
    "modify_global()  \n",
    "print(\"After calling modify_global:\", x)  "
   ]
  },
  {
   "cell_type": "code",
   "execution_count": 18,
   "metadata": {},
   "outputs": [
    {
     "name": "stdout",
     "output_type": "stream",
     "text": [
      "25\n"
     ]
    }
   ],
   "source": [
    "square = lambda x: x * x\n",
    "print(square(5))"
   ]
  },
  {
   "cell_type": "code",
   "execution_count": 25,
   "metadata": {},
   "outputs": [
    {
     "name": "stdout",
     "output_type": "stream",
     "text": [
      "8\n"
     ]
    }
   ],
   "source": [
    "sum_two_numbers = lambda a, b: a + b\n",
    "print(sum_two_numbers(5, 3))\n"
   ]
  },
  {
   "cell_type": "code",
   "execution_count": 10,
   "metadata": {},
   "outputs": [],
   "source": [
    "def my_function():\n",
    "    pass"
   ]
  },
  {
   "cell_type": "code",
   "execution_count": 32,
   "metadata": {},
   "outputs": [],
   "source": [
    "age = 20\n",
    "assert age >= 18"
   ]
  },
  {
   "cell_type": "code",
   "execution_count": 33,
   "metadata": {},
   "outputs": [],
   "source": [
    "with open(\"example.txt\", \"w\") as file:\n",
    "    file.write(\"This is a sample file.\")"
   ]
  },
  {
   "cell_type": "code",
   "execution_count": 13,
   "metadata": {},
   "outputs": [
    {
     "name": "stdout",
     "output_type": "stream",
     "text": [
      "Logical operations are correct.\n"
     ]
    }
   ],
   "source": [
    "a = True\n",
    "b = False\n",
    "if not b and a or a is True:\n",
    "    print(\"Logical operations are correct.\")"
   ]
  },
  {
   "cell_type": "code",
   "execution_count": 14,
   "metadata": {},
   "outputs": [
    {
     "name": "stdout",
     "output_type": "stream",
     "text": [
      "Hello from exec!\n"
     ]
    }
   ],
   "source": [
    "code = \"print('Hello from exec!')\"\n",
    "exec(code)"
   ]
  },
  {
   "cell_type": "code",
   "execution_count": 16,
   "metadata": {},
   "outputs": [
    {
     "name": "stdout",
     "output_type": "stream",
     "text": [
      "Cannot divide by zero!\n",
      "This will always run.\n"
     ]
    }
   ],
   "source": [
    "try:\n",
    "    num = 5 / 0\n",
    "except ZeroDivisionError:\n",
    "    print(\"Cannot divide by zero!\")\n",
    "finally:\n",
    "    print(\"This will always run.\")\n"
   ]
  },
  {
   "cell_type": "code",
   "execution_count": 39,
   "metadata": {},
   "outputs": [
    {
     "name": "stdout",
     "output_type": "stream",
     "text": [
      "4.0\n"
     ]
    }
   ],
   "source": [
    "import math\n",
    "print(math.sqrt(16))"
   ]
  },
  {
   "cell_type": "code",
   "execution_count": 40,
   "metadata": {},
   "outputs": [
    {
     "name": "stdout",
     "output_type": "stream",
     "text": [
      "0.1456223142581088\n",
      "9\n"
     ]
    }
   ],
   "source": [
    "import random\n",
    "\n",
    "\n",
    "print(random.random())\n",
    "\n",
    "\n",
    "print(random.randint(1, 10))\n"
   ]
  },
  {
   "cell_type": "code",
   "execution_count": 62,
   "metadata": {},
   "outputs": [
    {
     "name": "stdout",
     "output_type": "stream",
     "text": [
      "A  B  C\n"
     ]
    }
   ],
   "source": [
    "print(\"A\", \"B\", \"C\", sep=\"  \")\n"
   ]
  },
  {
   "cell_type": "code",
   "execution_count": 63,
   "metadata": {},
   "outputs": [
    {
     "name": "stdout",
     "output_type": "stream",
     "text": [
      "This is a \n",
      "multi-line \n",
      "string.\n"
     ]
    }
   ],
   "source": [
    "print(\"\"\"This is a \n",
    "multi-line \n",
    "string.\"\"\")\n"
   ]
  },
  {
   "cell_type": "code",
   "execution_count": 64,
   "metadata": {},
   "outputs": [
    {
     "name": "stdout",
     "output_type": "stream",
     "text": [
      "{'name': 'sedra', 'age': 21}\n"
     ]
    }
   ],
   "source": [
    "my_list = [1, 2, 3]\n",
    "print(my_list)\n",
    "\n",
    "my_dict = {\"name\": \"sedra\", \"age\": 21}\n",
    "print(my_dict)\n"
   ]
  },
  {
   "cell_type": "code",
   "execution_count": 65,
   "metadata": {},
   "outputs": [
    {
     "name": "stdout",
     "output_type": "stream",
     "text": [
      "My name is sedra and I am 21 years old.\n"
     ]
    }
   ],
   "source": [
    "name='sedra'\n",
    "age=21\n",
    "print(\"My name is {} and I am {} years old.\".format(name, age))\n",
    "\n"
   ]
  },
  {
   "cell_type": "code",
   "execution_count": 23,
   "metadata": {},
   "outputs": [
    {
     "name": "stdout",
     "output_type": "stream",
     "text": [
      "apple, banana, cherry\n"
     ]
    }
   ],
   "source": [
    "print(\"apple\", \"banana\", \"cherry\", sep=\", \")\n"
   ]
  },
  {
   "cell_type": "code",
   "execution_count": 24,
   "metadata": {},
   "outputs": [
    {
     "name": "stdout",
     "output_type": "stream",
     "text": [
      "Name: lana, Age: 30\n"
     ]
    }
   ],
   "source": [
    "name = \"lana\"\n",
    "age = 30\n",
    "print(\"Name: \" + name + \", Age: \" + str(age))\n"
   ]
  },
  {
   "cell_type": "code",
   "execution_count": 66,
   "metadata": {},
   "outputs": [
    {
     "name": "stdout",
     "output_type": "stream",
     "text": [
      "Name: leen, Age: 28\n"
     ]
    }
   ],
   "source": [
    "name = \"leen\"\n",
    "age = 28\n",
    "print(f'Name: {name}, Age: {age}')\n"
   ]
  },
  {
   "cell_type": "code",
   "execution_count": 67,
   "metadata": {},
   "outputs": [
    {
     "name": "stdout",
     "output_type": "stream",
     "text": [
      "I like apple\n",
      "I like banana\n",
      "I like cherry\n"
     ]
    }
   ],
   "source": [
    "fruits = [\"apple\", \"banana\", \"cherry\"]\n",
    "for fruit in fruits:\n",
    "    print(f\"I like {fruit}\")"
   ]
  },
  {
   "cell_type": "code",
   "execution_count": 27,
   "metadata": {},
   "outputs": [
    {
     "name": "stdout",
     "output_type": "stream",
     "text": [
      "Sum: 15, Max: 5, Min: 1\n"
     ]
    }
   ],
   "source": [
    "numbers = [1, 2, 3, 4, 5]\n",
    "print(f\"Sum: {sum(numbers)}, Max: {max(numbers)}, Min: {min(numbers)}\")\n"
   ]
  },
  {
   "cell_type": "markdown",
   "metadata": {},
   "source": [
    "**Single-Line Comments:**\n",
    "Written using the # symbol. Everything following the # is considered a comment and is not executed"
   ]
  },
  {
   "cell_type": "code",
   "execution_count": 28,
   "metadata": {},
   "outputs": [
    {
     "name": "stdout",
     "output_type": "stream",
     "text": [
      "Hello, World!\n"
     ]
    }
   ],
   "source": [
    "# This is a comment explaining the next line\n",
    "print(\"Hello, World!\")  # Print a welcome message"
   ]
  },
  {
   "cell_type": "markdown",
   "metadata": {},
   "source": [
    "**Multi-Line Comments:**\n",
    "\n",
    "Written using triple single quotes (''') or triple double quotes (\"\"\"). This type of comment is used for longer explanations or documentation."
   ]
  },
  {
   "cell_type": "code",
   "execution_count": 29,
   "metadata": {},
   "outputs": [
    {
     "name": "stdout",
     "output_type": "stream",
     "text": [
      "25\n"
     ]
    }
   ],
   "source": [
    "def square(number):\n",
    "    \"\"\"\n",
    "    This function takes an integer and returns its square.\n",
    "    \n",
    "    Arguments:\n",
    "    number (int): The number to be squared.\n",
    "    \n",
    "    Returns:\n",
    "    int: The square of the input number.\n",
    "    \"\"\"\n",
    "    return number * number\n",
    "\n",
    "# Test the function\n",
    "result = square(5)  # Pass the number 5 to the function\n",
    "print(result)  # Print the result, which should be 25"
   ]
  },
  {
   "cell_type": "code",
   "execution_count": null,
   "metadata": {},
   "outputs": [],
   "source": []
  }
 ],
 "metadata": {
  "kernelspec": {
   "display_name": "Python 3",
   "language": "python",
   "name": "python3"
  },
  "language_info": {
   "codemirror_mode": {
    "name": "ipython",
    "version": 3
   },
   "file_extension": ".py",
   "mimetype": "text/x-python",
   "name": "python",
   "nbconvert_exporter": "python",
   "pygments_lexer": "ipython3",
   "version": "3.12.4"
  }
 },
 "nbformat": 4,
 "nbformat_minor": 2
}
