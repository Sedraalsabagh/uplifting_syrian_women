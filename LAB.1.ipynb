{
 "cells": [
  {
   "cell_type": "markdown",
   "metadata": {},
   "source": [
    "## **Python ─ Overview**\n"
   ]
  },
  {
   "cell_type": "markdown",
   "metadata": {},
   "source": [
    "Python is a high-level, interpreted, interactive and object-oriented scripting\n",
    "language. Python is designed to be highly readable. It uses English keywords\n",
    "frequently where as other languages use punctuation, and it has fewer syntactical\n",
    "constructions than other languages.\n",
    " Python is Interpreted: Python is processed at runtime by the interpreter.\n",
    "You do not need to compile your program before executing it. This is similar\n",
    "to PERL and PHP.\n",
    " Python is Interactive: You can actually sit at a Python prompt and interact\n",
    "with the interpreter directly to write your programs.\n",
    " Python is Object-Oriented: Python supports Object-Oriented style or\n",
    "technique of programming that encapsulates code within objects.\n",
    " Python is a Beginner's Language: Python is a great language for the\n",
    "beginner-level programmers and supports the development of a wide range of\n",
    "applications from simple text processing to WWW browsers to games"
   ]
  },
  {
   "cell_type": "markdown",
   "metadata": {},
   "source": [
    "## History of Python"
   ]
  },
  {
   "cell_type": "markdown",
   "metadata": {},
   "source": [
    "\n",
    "Python was developed by Guido van Rossum in the late eighties and early nineties at\n",
    "the National Research Institute for Mathematics and Computer Science in the\n",
    "Netherlands.\n",
    "Python is derived from many other languages, including ABC, Modula-3, C, C++,\n",
    "Algol-68, SmallTalk, Unix shell, and other scripting languages.\n",
    "Python is copyrighted. Like Perl, Python source code is now available under the GNU\n",
    "General Public License (GPL).\n",
    "Python is now maintained by a core development team at the institute, although\n",
    "Guido van Rossum still holds a vital role in directing its progress"
   ]
  },
  {
   "cell_type": "markdown",
   "metadata": {},
   "source": [
    "### **Python Features**\n"
   ]
  },
  {
   "cell_type": "markdown",
   "metadata": {},
   "source": [
    "Easy-to-learn: Python has few keywords, simple structure, and a clearly\n",
    "defined syntax. This allows the student to pick up the language quickly.\n",
    " Easy-to-read: Python code is more clearly defined and visible to the eyes.\n",
    " Easy-to-maintain: Python's source code is fairly easy-to-maintain.\n",
    "A broad standard library: Python's bulk of the library is very portable and\n",
    "cross-platform compatible on UNIX, Windows, and Macintosh.\n",
    " Interactive Mode: Python has support for an interactive mode which allows\n",
    "interactive testing and debugging of snippets of code.\n",
    " Portable: Python can run on a wide variety of hardware platforms and has the\n",
    "same interface on all platforms.\n",
    " Extendable: You can add low-level modules to the Python interpreter. These\n",
    "modules enable programmers to add to or customize their tools to be more\n",
    "efficient.\n",
    " Databases: Python provides interfaces to all major commercial databases.\n",
    " GUI Programming: Python supports GUI applications that can be created and\n",
    "ported to many system calls, libraries, and windows systems, such as Windows\n",
    "MFC, Macintosh, and the X Window system of Unix.\n",
    " Scalable: Python provides a better structure and support for large programs\n",
    "than shell scripting.\n"
   ]
  },
  {
   "cell_type": "markdown",
   "metadata": {},
   "source": [
    "### **Getting Python**\n",
    "You can download Python documentation from http://www.python.org/doc"
   ]
  },
  {
   "cell_type": "markdown",
   "metadata": {},
   "source": [
    "Windows Installation\n",
    "Here are the steps to install Python on Windows machine.\n",
    " Open a Web browser and go to http://www.python.org/download/\n",
    " Follow the link for the Windows installer python-XYZ.msi file where XYZ is the\n",
    "version you need to install.\n",
    " To use this installer python-XYZ.msi, the Windows system must support\n",
    "Microsoft Installer 2.0. Save the installer file to your local machine and then\n",
    "run it to find out if your machine supports MSI.\n",
    " Run the downloaded file. This brings up the Python install wizard, which is\n",
    "really easy to use. Just accept the default settings, wait until the install is\n",
    "finished, and you are done."
   ]
  },
  {
   "cell_type": "markdown",
   "metadata": {},
   "source": [
    "## **Python ─ Basic Syntax**"
   ]
  },
  {
   "cell_type": "markdown",
   "metadata": {},
   "source": [
    "### First Python Program"
   ]
  },
  {
   "cell_type": "code",
   "execution_count": 1,
   "metadata": {},
   "outputs": [
    {
     "name": "stdout",
     "output_type": "stream",
     "text": [
      "Hello, World!\n"
     ]
    }
   ],
   "source": [
    "print(\"Hello, World!\")"
   ]
  },
  {
   "cell_type": "markdown",
   "metadata": {},
   "source": [
    "### Python Identifiers\n",
    "A Python identifier is a name used to identify a variable, function, class, module, or\n",
    "other object. An identifier starts with a letter A to Z or a to z, or an underscore (_)\n",
    "followed by zero or more letters, underscores and digits (0 to 9).\n",
    "Python does not allow punctuation characters such as @, $, and % within identifiers.\n",
    "Python is a case sensitive programming language. Thus, Manpower and manpower\n",
    "are two different identifiers in Python.\n",
    "Here are naming conventions for Python identifiers:\n",
    " Class names start with an uppercase letter. All other identifiers start with a\n",
    "lowercase letter.\n",
    " Starting an identifier with a single leading underscore indicates that the\n",
    "identifier is private.\n",
    " Starting an identifier with two leading underscores indicates a strongly private\n",
    "identifier"
   ]
  },
  {
   "cell_type": "code",
   "execution_count": 3,
   "metadata": {},
   "outputs": [
    {
     "name": "stdout",
     "output_type": "stream",
     "text": [
      "True\n"
     ]
    }
   ],
   "source": [
    "#if else\n",
    "if True:\n",
    " print(\"True\")\n",
    "else:\n",
    " print(\"False\")\n"
   ]
  },
  {
   "cell_type": "code",
   "execution_count": 1,
   "metadata": {},
   "outputs": [
    {
     "name": "stdout",
     "output_type": "stream",
     "text": [
      "x is equal to 10\n"
     ]
    }
   ],
   "source": [
    "x = 10\n",
    "if x < 5:\n",
    "    print(\"x is less than 5\")\n",
    "elif x == 10:\n",
    "    print(\"x is equal to 10\")\n",
    "else:\n",
    "    print(\"x is greater than 5\")"
   ]
  },
  {
   "cell_type": "code",
   "execution_count": 2,
   "metadata": {},
   "outputs": [
    {
     "name": "stdout",
     "output_type": "stream",
     "text": [
      "0\n",
      "1\n",
      "2\n",
      "3\n",
      "4\n",
      "6\n",
      "7\n"
     ]
    }
   ],
   "source": [
    "for i in range(10):\n",
    "    if i == 5:\n",
    "        continue  # تخطي الرقم 5\n",
    "    elif i == 8:\n",
    "        break  # إنهاء الحلقة عند الرقم 8\n",
    "    print(i)"
   ]
  },
  {
   "cell_type": "code",
   "execution_count": 3,
   "metadata": {},
   "outputs": [
    {
     "name": "stdout",
     "output_type": "stream",
     "text": [
      "0\n",
      "1\n",
      "2\n",
      "3\n",
      "4\n"
     ]
    }
   ],
   "source": [
    "y = 0\n",
    "while y < 5:\n",
    "    print(y)\n",
    "    y += 1"
   ]
  },
  {
   "cell_type": "code",
   "execution_count": null,
   "metadata": {},
   "outputs": [],
   "source": [
    "def add(a, b):\n",
    "    return a + b\n",
    "\n",
    "print(add(3, 4))\n"
   ]
  },
  {
   "cell_type": "code",
   "execution_count": 4,
   "metadata": {},
   "outputs": [
    {
     "name": "stdout",
     "output_type": "stream",
     "text": [
      "invalid literal for int() with base 10: ''\n"
     ]
    }
   ],
   "source": [
    "try:\n",
    "    value = int(input(\"Enter a number: \"))\n",
    "    if value < 0:\n",
    "        raise ValueError(\"Negative numbers are not allowed!\")\n",
    "except ValueError as e:\n",
    "    print(e)"
   ]
  },
  {
   "cell_type": "code",
   "execution_count": 5,
   "metadata": {},
   "outputs": [
    {
     "name": "stdout",
     "output_type": "stream",
     "text": [
      "Hello, Alice\n"
     ]
    }
   ],
   "source": [
    "class MyClass:\n",
    "    global z  # z is a global variable\n",
    "    z = 100\n",
    "    def __init__(self, name):\n",
    "        self.name = name\n",
    "    \n",
    "    def greet(self):\n",
    "        print(\"Hello, \" + self.name)\n",
    "\n",
    "obj = MyClass(\"Alice\")\n",
    "obj.greet()"
   ]
  },
  {
   "cell_type": "code",
   "execution_count": 6,
   "metadata": {},
   "outputs": [
    {
     "name": "stdout",
     "output_type": "stream",
     "text": [
      "25\n"
     ]
    }
   ],
   "source": [
    "square = lambda x: x * x\n",
    "print(square(5))"
   ]
  },
  {
   "cell_type": "code",
   "execution_count": 7,
   "metadata": {},
   "outputs": [],
   "source": [
    "def my_function():\n",
    "    pass"
   ]
  },
  {
   "cell_type": "code",
   "execution_count": 8,
   "metadata": {},
   "outputs": [],
   "source": [
    "age = 20\n",
    "assert age >= 18"
   ]
  },
  {
   "cell_type": "code",
   "execution_count": 9,
   "metadata": {},
   "outputs": [],
   "source": [
    "with open(\"example.txt\", \"w\") as file:\n",
    "    file.write(\"This is a sample file.\")"
   ]
  },
  {
   "cell_type": "code",
   "execution_count": 10,
   "metadata": {},
   "outputs": [
    {
     "name": "stdout",
     "output_type": "stream",
     "text": [
      "Logical operations are correct.\n"
     ]
    }
   ],
   "source": [
    "a = True\n",
    "b = False\n",
    "if not b and a or a is True:\n",
    "    print(\"Logical operations are correct.\")"
   ]
  },
  {
   "cell_type": "code",
   "execution_count": 11,
   "metadata": {},
   "outputs": [
    {
     "name": "stdout",
     "output_type": "stream",
     "text": [
      "Hello from exec!\n"
     ]
    }
   ],
   "source": [
    "code = \"print('Hello from exec!')\"\n",
    "exec(code)"
   ]
  },
  {
   "cell_type": "code",
   "execution_count": null,
   "metadata": {},
   "outputs": [],
   "source": [
    "def generator():\n",
    "    for i in range(5):\n",
    "        yield i\n",
    "\n",
    "for value in generator():\n",
    "    print(value)"
   ]
  },
  {
   "cell_type": "code",
   "execution_count": null,
   "metadata": {},
   "outputs": [],
   "source": [
    "try:\n",
    "    num = 5 / 0\n",
    "except ZeroDivisionError:\n",
    "    print(\"Cannot divide by zero!\")\n",
    "finally:\n",
    "    print(\"This will always run.\")\n"
   ]
  },
  {
   "cell_type": "code",
   "execution_count": null,
   "metadata": {},
   "outputs": [],
   "source": [
    "import math\n",
    "print(math.sqrt(16))"
   ]
  }
 ],
 "metadata": {
  "kernelspec": {
   "display_name": "Python 3",
   "language": "python",
   "name": "python3"
  },
  "language_info": {
   "codemirror_mode": {
    "name": "ipython",
    "version": 3
   },
   "file_extension": ".py",
   "mimetype": "text/x-python",
   "name": "python",
   "nbconvert_exporter": "python",
   "pygments_lexer": "ipython3",
   "version": "3.12.4"
  }
 },
 "nbformat": 4,
 "nbformat_minor": 2
}
